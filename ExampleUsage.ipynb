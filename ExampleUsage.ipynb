{
  "metadata": {
    "kaggle": {
      "accelerator": "none",
      "dataSources": [
        {
          "sourceId": 6939736,
          "sourceType": "datasetVersion",
          "datasetId": 3985377
        },
        {
          "sourceId": 6982985,
          "sourceType": "datasetVersion",
          "datasetId": 4013207
        }
      ],
      "dockerImageVersionId": 30587,
      "isInternetEnabled": true,
      "language": "python",
      "sourceType": "notebook",
      "isGpuEnabled": false
    },
    "kernelspec": {
      "display_name": "Python 3",
      "language": "python",
      "name": "python3"
    },
    "language_info": {
      "codemirror_mode": {
        "name": "ipython",
        "version": 3
      },
      "file_extension": ".py",
      "mimetype": "text/x-python",
      "name": "python",
      "nbconvert_exporter": "python",
      "pygments_lexer": "ipython3",
      "version": "3.10.12"
    },
    "papermill": {
      "default_parameters": {},
      "duration": 5.733813,
      "end_time": "2023-11-16T17:36:14.129927",
      "environment_variables": {},
      "exception": null,
      "input_path": "__notebook__.ipynb",
      "output_path": "__notebook__.ipynb",
      "parameters": {},
      "start_time": "2023-11-16T17:36:08.396114",
      "version": "2.4.0"
    },
    "colab": {
      "provenance": []
    }
  },
  "nbformat_minor": 0,
  "nbformat": 4,
  "cells": [
    {
      "cell_type": "markdown",
      "source": [
        "# Introduction to the SCRQD Dataset\n",
        "\n",
        "In this notebook, we explore the SCRQD dataset, comprising subjective comparative questions from the smartphone domain. Our focus is to analyze and extract meaningful insights from these questions, enhancing our understanding of subjective comparisons in Automated Question Answering systems.\n",
        "\n",
        "\n",
        "The SCRQD Dataset comprises five key tables, each serving a distinct purpose in the analysis and processing of comparative questions:\n",
        "1. **Questions Table**: Contains the subjective comparative questions.\n",
        "2. **Relations Table**: Details the subhective comparative relations between various entities in the questions.\n",
        "3. **Elements Table**: Focuses on extracting specific elements (Products, Aspects, ans Constraint) from the questions.\n",
        "4. **Entity Roles Table**: Categorizes the roles (subject/object) of different entities within the questions.\n",
        "5. **Comparative Preferences Table**: Classifies the preferences expressed in the questions.\n",
        "\n",
        "In the following sections, we will explore each of these tables in detail to understand their structure, content, and the role they play in analyzing subjective comparative questions.\n"
      ],
      "metadata": {
        "papermill": {
          "duration": 0.010348,
          "end_time": "2023-11-16T17:36:12.250027",
          "exception": false,
          "start_time": "2023-11-16T17:36:12.239679",
          "status": "completed"
        },
        "tags": [],
        "id": "Ys-JrGhDGKje"
      }
    },
    {
      "cell_type": "markdown",
      "source": [
        "\n",
        "## Dataset Instructions\n",
        "\n",
        "We begin by loading various tables essential for our analysis. These include Questions, Relations, Elements, Entity Roles, and Comparative Preference categorizations.\n",
        "1. Download the dataset from [this link](https://github.com/mahsamb/SCRQD/blob/main/Dataset.zip)\n",
        "2. Unzip the downloaded file to access the datasets.\n",
        "\n"
      ],
      "metadata": {
        "id": "L1sF19iwGKji"
      }
    },
    {
      "cell_type": "code",
      "source": [
        "import requests\n",
        "import zipfile\n",
        "import os\n",
        "\n",
        "data_url = \"https://github.com/mahsamb/SCRQD/raw/main/Dataset.zip\"\n",
        "zip_filename = \"Dataset.zip\"\n",
        "\n",
        "# Downloading using requests\n",
        "response = requests.get(data_url)\n",
        "\n",
        "# Check if the request was successful (status_code 200)\n",
        "if response.status_code == 200:\n",
        "    with open(zip_filename, \"wb\") as f:\n",
        "        f.write(response.content)\n",
        "else:\n",
        "    print(f\"Failed to retrieve the data: {response.status_code}: {response.text}\")\n",
        "    # Add additional error handling here\n",
        "\n",
        "# Unzipping the dataset\n",
        "try:\n",
        "    with zipfile.ZipFile(zip_filename, 'r') as zip_ref:\n",
        "        zip_ref.extractall(\"data\")\n",
        "    print(\"Files extracted:\")\n",
        "    print(os.listdir(\"data\"))\n",
        "except zipfile.BadZipFile:\n",
        "    print(\"Error: The file doesn’t appear to be a valid zip file\")\n"
      ],
      "metadata": {
        "execution": {
          "iopub.status.busy": "2023-11-17T06:18:13.280624Z",
          "iopub.execute_input": "2023-11-17T06:18:13.281676Z",
          "iopub.status.idle": "2023-11-17T06:18:13.527995Z",
          "shell.execute_reply.started": "2023-11-17T06:18:13.281619Z",
          "shell.execute_reply": "2023-11-17T06:18:13.526525Z"
        },
        "trusted": true,
        "colab": {
          "base_uri": "https://localhost:8080/"
        },
        "id": "hQtEzBjrGKjj",
        "outputId": "d8f38a5e-e285-4f07-fede-b0ca2dca3fa6"
      },
      "execution_count": 16,
      "outputs": [
        {
          "output_type": "stream",
          "name": "stdout",
          "text": [
            "Files extracted:\n",
            "['EntityRoles.pkl', 'Relations.pkl', 'Questions.pkl', 'ComparativePreferences.pkl', 'Elements.pkl']\n"
          ]
        }
      ]
    },
    {
      "cell_type": "code",
      "source": [
        "import numpy as np\n",
        "import pickle as cPickle\n",
        "import pickle\n",
        "import re\n",
        "import pandas as pd\n",
        "from IPython.display import display, HTML\n",
        "import random\n",
        "\n",
        "\n",
        "\n",
        "with open(r\"/content/data/Questions.pkl\", \"rb\") as input_file:\n",
        "    QuestionDict = pickle.load(input_file)\n",
        "    input_file.close()\n",
        "\n",
        "with open('/content/data/EntityRoles.pkl', 'rb') as input_file:\n",
        "    EntityRoleIdentificaionDict = pickle.load(input_file)\n",
        "    input_file.close()\n",
        "\n",
        "with open('/content/data/Relations.pkl', 'rb') as input_file:\n",
        "    RelationDict = pickle.load(input_file)\n",
        "    input_file.close()\n",
        "\n",
        "with open(r\"/content/data/Elements.pkl\", \"rb\") as input_file:\n",
        "    Product_Aspect_Contraint_dict = pickle.load(input_file)\n",
        "    input_file.close()\n",
        "\n",
        "with open(r\"/content/data/ComparativePreferences.pkl\", \"rb\") as input_file:\n",
        "    CPCDict = pickle.load(input_file)\n",
        "    input_file.close()\n",
        "\n",
        "\n"
      ],
      "metadata": {
        "papermill": {
          "duration": 0.526316,
          "end_time": "2023-11-16T17:36:12.801063",
          "exception": false,
          "start_time": "2023-11-16T17:36:12.274747",
          "status": "completed"
        },
        "tags": [],
        "execution": {
          "iopub.status.busy": "2023-11-17T06:18:13.530722Z",
          "iopub.execute_input": "2023-11-17T06:18:13.531179Z",
          "iopub.status.idle": "2023-11-17T06:18:13.559218Z",
          "shell.execute_reply.started": "2023-11-17T06:18:13.531143Z",
          "shell.execute_reply": "2023-11-17T06:18:13.557640Z"
        },
        "trusted": true,
        "id": "fJSN_w3-GKjl"
      },
      "execution_count": 17,
      "outputs": []
    },
    {
      "cell_type": "markdown",
      "source": [
        "## Sample Questions\n",
        "\n",
        "In this section, we'll explore a selection of questions from the SCRQD dataset. This dataset consists of unique IDs and their corresponding subjective comparative questions, providing a glimpse into the nature and variety of queries within the smartphone domain. Let's take a look at some sample questions to understand the dataset's content better.\n"
      ],
      "metadata": {
        "papermill": {
          "duration": 0.009677,
          "end_time": "2023-11-16T17:36:12.819639",
          "exception": false,
          "start_time": "2023-11-16T17:36:12.809962",
          "status": "completed"
        },
        "tags": [],
        "id": "9F5yAiJRGKjm"
      }
    },
    {
      "cell_type": "code",
      "source": [
        "import pandas as pd\n",
        "from IPython.display import display, HTML\n",
        "import random\n",
        "\n",
        "\n",
        "# Sample 5 random keys (question IDs) from the dictionary\n",
        "sampled_keys = random.sample(list(QuestionDict.keys()), 5)\n",
        "\n",
        "# Prepare data for DataFrame\n",
        "data_for_df = [{'ID': key, 'Question': QuestionDict[key]} for key in sampled_keys]\n",
        "\n",
        "# Create DataFrame\n",
        "df_questions = pd.DataFrame(data_for_df)\n",
        "\n",
        "# Display the DataFrame\n",
        "display(HTML(df_questions.to_html(index=False)))\n"
      ],
      "metadata": {
        "papermill": {
          "duration": 0.038199,
          "end_time": "2023-11-16T17:36:12.866951",
          "exception": false,
          "start_time": "2023-11-16T17:36:12.828752",
          "status": "completed"
        },
        "tags": [],
        "execution": {
          "iopub.status.busy": "2023-11-17T06:18:13.561300Z",
          "iopub.execute_input": "2023-11-17T06:18:13.561758Z",
          "iopub.status.idle": "2023-11-17T06:18:13.571727Z",
          "shell.execute_reply.started": "2023-11-17T06:18:13.561728Z",
          "shell.execute_reply": "2023-11-17T06:18:13.570734Z"
        },
        "trusted": true,
        "colab": {
          "base_uri": "https://localhost:8080/",
          "height": 223
        },
        "id": "VjqDtZsUGKjm",
        "outputId": "bf3dac7d-51b5-43a6-d1fa-02b947b55dba"
      },
      "execution_count": 18,
      "outputs": [
        {
          "output_type": "display_data",
          "data": {
            "text/plain": [
              "<IPython.core.display.HTML object>"
            ],
            "text/html": [
              "<table border=\"1\" class=\"dataframe\">\n",
              "  <thead>\n",
              "    <tr style=\"text-align: right;\">\n",
              "      <th>ID</th>\n",
              "      <th>Question</th>\n",
              "    </tr>\n",
              "  </thead>\n",
              "  <tbody>\n",
              "    <tr>\n",
              "      <td>1213</td>\n",
              "      <td>which new smartphone has a similar look to the OnePlus 5 T but has a better camera , Apple iPhone 7 Plus or the Xiaomi Mi 6 ?</td>\n",
              "    </tr>\n",
              "    <tr>\n",
              "      <td>921</td>\n",
              "      <td>Which phone should I not buy in 2019 , Samsung Galaxy Note 10 or OnePlus 7 Pro ?</td>\n",
              "    </tr>\n",
              "    <tr>\n",
              "      <td>898</td>\n",
              "      <td>Why is Samsung not improving its mobile performance by learning from the iPhone ?</td>\n",
              "    </tr>\n",
              "    <tr>\n",
              "      <td>752</td>\n",
              "      <td>Do you think iPhone is an excellent brand compared to Samsung ?</td>\n",
              "    </tr>\n",
              "    <tr>\n",
              "      <td>510</td>\n",
              "      <td>What are the good points when comparing the Samsung Galaxy Tablet and the iPad ?</td>\n",
              "    </tr>\n",
              "  </tbody>\n",
              "</table>"
            ]
          },
          "metadata": {}
        }
      ]
    },
    {
      "cell_type": "code",
      "source": [
        "###################################################################################################"
      ],
      "metadata": {
        "papermill": {
          "duration": 0.017011,
          "end_time": "2023-11-16T17:36:12.892448",
          "exception": false,
          "start_time": "2023-11-16T17:36:12.875437",
          "status": "completed"
        },
        "tags": [],
        "execution": {
          "iopub.status.busy": "2023-11-17T06:18:13.572935Z",
          "iopub.execute_input": "2023-11-17T06:18:13.573216Z",
          "iopub.status.idle": "2023-11-17T06:18:13.582635Z",
          "shell.execute_reply.started": "2023-11-17T06:18:13.573193Z",
          "shell.execute_reply": "2023-11-17T06:18:13.581609Z"
        },
        "trusted": true,
        "id": "rbmkPKF4GKjn"
      },
      "execution_count": 19,
      "outputs": []
    },
    {
      "cell_type": "markdown",
      "source": [
        "## Relation Extraction\n",
        "\n",
        "Expanding upon the first table, we'll now delve into the Relations table, which provides a structured representation of questions and their associated comparative relations. Each question is identified by a unique key, and the corresponding subjective comparative relations, if any, are represented as quintuples encompassing the subject entity, object entity, compared aspect, preference category, and constraint.\n",
        "\n",
        "Let's take a look at the first few entries in the Relations table to understand its structure. The Relations table contains the following columns: Subject Entity, Object Entity, Compared Aspect, Constraint, and Preference."
      ],
      "metadata": {
        "papermill": {
          "duration": 0.008044,
          "end_time": "2023-11-16T17:36:12.908680",
          "exception": false,
          "start_time": "2023-11-16T17:36:12.900636",
          "status": "completed"
        },
        "tags": [],
        "id": "LuLIhAxKGKjn"
      }
    },
    {
      "cell_type": "code",
      "source": [
        "import pandas as pd\n",
        "from IPython.display import display, HTML\n",
        "import random\n",
        "\n",
        "\n",
        "# Function to find keys where the value has more than one non-empty list\n",
        "def find_keys_with_multiple_non_empty_lists(data):\n",
        "    keys_with_multiple_non_empty = []\n",
        "    for key, value in data.items():\n",
        "        if len([item for item in value if item]) > 1:\n",
        "            keys_with_multiple_non_empty.append(key)\n",
        "    return keys_with_multiple_non_empty\n",
        "\n",
        "# Find keys with more than one non-empty list\n",
        "keys_with_multiple_non_empty = find_keys_with_multiple_non_empty_lists(RelationDict)\n",
        "\n",
        "# Display function\n",
        "def display_sampled_keys_df(keys, category_name):\n",
        "    print(f\"--- {category_name} ---\")\n",
        "    keys = random.sample(keys, min(len(keys), 3))  # Randomly select up to 5 keys\n",
        "    for key in keys:\n",
        "        values = RelationDict[key]\n",
        "        question = QuestionDict.get(key, 'not found')\n",
        "        for value in values:\n",
        "            if not value:  # Skip empty lists\n",
        "                continue\n",
        "            example_data = {\n",
        "                'ID': key,\n",
        "                'Question': question,\n",
        "                'Subject Entity': value[0],\n",
        "                'Compared Aspect': value[1],\n",
        "                'Object Entity': value[2],\n",
        "                'Preference Category': value[3],\n",
        "                'Constraint': value[4]\n",
        "            }\n",
        "            df_example = pd.DataFrame([example_data])\n",
        "            for column in df_example.columns:\n",
        "                df_example[column] = df_example[column].apply(lambda x: ', '.join(x) if isinstance(x, list) else x)\n",
        "            display(HTML(df_example.to_html(index=False)))\n",
        "\n",
        "# Call the display function\n",
        "display_sampled_keys_df(keys_with_multiple_non_empty, \"Keys with Multiple Non-Empty Values\")\n"
      ],
      "metadata": {
        "papermill": {
          "duration": 0.093023,
          "end_time": "2023-11-16T17:36:13.010072",
          "exception": false,
          "start_time": "2023-11-16T17:36:12.917049",
          "status": "completed"
        },
        "tags": [],
        "execution": {
          "iopub.status.busy": "2023-11-17T06:18:13.585463Z",
          "iopub.execute_input": "2023-11-17T06:18:13.585770Z",
          "iopub.status.idle": "2023-11-17T06:18:13.659059Z",
          "shell.execute_reply.started": "2023-11-17T06:18:13.585746Z",
          "shell.execute_reply": "2023-11-17T06:18:13.657290Z"
        },
        "trusted": true,
        "colab": {
          "base_uri": "https://localhost:8080/",
          "height": 1000
        },
        "id": "1u-3w1_YGKjo",
        "outputId": "00f9d478-abb4-403f-b213-6dea974da7f6"
      },
      "execution_count": 20,
      "outputs": [
        {
          "output_type": "stream",
          "name": "stdout",
          "text": [
            "--- Keys with Multiple Non-Empty Values ---\n"
          ]
        },
        {
          "output_type": "display_data",
          "data": {
            "text/plain": [
              "<IPython.core.display.HTML object>"
            ],
            "text/html": [
              "<table border=\"1\" class=\"dataframe\">\n",
              "  <thead>\n",
              "    <tr style=\"text-align: right;\">\n",
              "      <th>ID</th>\n",
              "      <th>Question</th>\n",
              "      <th>Subject Entity</th>\n",
              "      <th>Compared Aspect</th>\n",
              "      <th>Object Entity</th>\n",
              "      <th>Preference Category</th>\n",
              "      <th>Constraint</th>\n",
              "    </tr>\n",
              "  </thead>\n",
              "  <tbody>\n",
              "    <tr>\n",
              "      <td>118</td>\n",
              "      <td>Is Samsung j 7 better than Samsung j 5 in terms of user experience and build quality ?</td>\n",
              "      <td>Samsung j7</td>\n",
              "      <td>user experience</td>\n",
              "      <td>Samsung j5</td>\n",
              "      <td>B</td>\n",
              "      <td>None</td>\n",
              "    </tr>\n",
              "  </tbody>\n",
              "</table>"
            ]
          },
          "metadata": {}
        },
        {
          "output_type": "display_data",
          "data": {
            "text/plain": [
              "<IPython.core.display.HTML object>"
            ],
            "text/html": [
              "<table border=\"1\" class=\"dataframe\">\n",
              "  <thead>\n",
              "    <tr style=\"text-align: right;\">\n",
              "      <th>ID</th>\n",
              "      <th>Question</th>\n",
              "      <th>Subject Entity</th>\n",
              "      <th>Compared Aspect</th>\n",
              "      <th>Object Entity</th>\n",
              "      <th>Preference Category</th>\n",
              "      <th>Constraint</th>\n",
              "    </tr>\n",
              "  </thead>\n",
              "  <tbody>\n",
              "    <tr>\n",
              "      <td>118</td>\n",
              "      <td>Is Samsung j 7 better than Samsung j 5 in terms of user experience and build quality ?</td>\n",
              "      <td>Samsung j7</td>\n",
              "      <td>build quality</td>\n",
              "      <td>Samsung j5</td>\n",
              "      <td>B</td>\n",
              "      <td>None</td>\n",
              "    </tr>\n",
              "  </tbody>\n",
              "</table>"
            ]
          },
          "metadata": {}
        },
        {
          "output_type": "display_data",
          "data": {
            "text/plain": [
              "<IPython.core.display.HTML object>"
            ],
            "text/html": [
              "<table border=\"1\" class=\"dataframe\">\n",
              "  <thead>\n",
              "    <tr style=\"text-align: right;\">\n",
              "      <th>ID</th>\n",
              "      <th>Question</th>\n",
              "      <th>Subject Entity</th>\n",
              "      <th>Compared Aspect</th>\n",
              "      <th>Object Entity</th>\n",
              "      <th>Preference Category</th>\n",
              "      <th>Constraint</th>\n",
              "    </tr>\n",
              "  </thead>\n",
              "  <tbody>\n",
              "    <tr>\n",
              "      <td>359</td>\n",
              "      <td>Which one of these phones is fantastic ? I care about camera quality , security updates , battery life , and not much else . Samsung Galaxy J 7 Crown $ 83 , LG G 7 $ 148 , Motorola Moto E $ 83 , Samsung Galaxy S 8 $ 158 , Motorola Moto G 7 Play $ 80 ?</td>\n",
              "      <td>Samsung Galaxy J7 Crown, LG G7, Motorola Moto E, Samsung Galaxy S8, Motorola Moto G7 Play</td>\n",
              "      <td>camera quality</td>\n",
              "      <td>All</td>\n",
              "      <td>XorSB</td>\n",
              "      <td>None</td>\n",
              "    </tr>\n",
              "  </tbody>\n",
              "</table>"
            ]
          },
          "metadata": {}
        },
        {
          "output_type": "display_data",
          "data": {
            "text/plain": [
              "<IPython.core.display.HTML object>"
            ],
            "text/html": [
              "<table border=\"1\" class=\"dataframe\">\n",
              "  <thead>\n",
              "    <tr style=\"text-align: right;\">\n",
              "      <th>ID</th>\n",
              "      <th>Question</th>\n",
              "      <th>Subject Entity</th>\n",
              "      <th>Compared Aspect</th>\n",
              "      <th>Object Entity</th>\n",
              "      <th>Preference Category</th>\n",
              "      <th>Constraint</th>\n",
              "    </tr>\n",
              "  </thead>\n",
              "  <tbody>\n",
              "    <tr>\n",
              "      <td>359</td>\n",
              "      <td>Which one of these phones is fantastic ? I care about camera quality , security updates , battery life , and not much else . Samsung Galaxy J 7 Crown $ 83 , LG G 7 $ 148 , Motorola Moto E $ 83 , Samsung Galaxy S 8 $ 158 , Motorola Moto G 7 Play $ 80 ?</td>\n",
              "      <td>Samsung Galaxy J7 Crown $83, LG G7 $148, Motorola Moto E $83, Samsung Galaxy S8 $158, Motorola Moto G7 Play $80</td>\n",
              "      <td>security updates</td>\n",
              "      <td>All</td>\n",
              "      <td>XorSB</td>\n",
              "      <td>None</td>\n",
              "    </tr>\n",
              "  </tbody>\n",
              "</table>"
            ]
          },
          "metadata": {}
        },
        {
          "output_type": "display_data",
          "data": {
            "text/plain": [
              "<IPython.core.display.HTML object>"
            ],
            "text/html": [
              "<table border=\"1\" class=\"dataframe\">\n",
              "  <thead>\n",
              "    <tr style=\"text-align: right;\">\n",
              "      <th>ID</th>\n",
              "      <th>Question</th>\n",
              "      <th>Subject Entity</th>\n",
              "      <th>Compared Aspect</th>\n",
              "      <th>Object Entity</th>\n",
              "      <th>Preference Category</th>\n",
              "      <th>Constraint</th>\n",
              "    </tr>\n",
              "  </thead>\n",
              "  <tbody>\n",
              "    <tr>\n",
              "      <td>359</td>\n",
              "      <td>Which one of these phones is fantastic ? I care about camera quality , security updates , battery life , and not much else . Samsung Galaxy J 7 Crown $ 83 , LG G 7 $ 148 , Motorola Moto E $ 83 , Samsung Galaxy S 8 $ 158 , Motorola Moto G 7 Play $ 80 ?</td>\n",
              "      <td>Samsung Galaxy J7 Crown $83, LG G7 $148, Motorola Moto E $83, Samsung Galaxy S8 $158, Motorola Moto G7 Play $80</td>\n",
              "      <td>battery life</td>\n",
              "      <td>All</td>\n",
              "      <td>XorSB</td>\n",
              "      <td>None</td>\n",
              "    </tr>\n",
              "  </tbody>\n",
              "</table>"
            ]
          },
          "metadata": {}
        },
        {
          "output_type": "display_data",
          "data": {
            "text/plain": [
              "<IPython.core.display.HTML object>"
            ],
            "text/html": [
              "<table border=\"1\" class=\"dataframe\">\n",
              "  <thead>\n",
              "    <tr style=\"text-align: right;\">\n",
              "      <th>ID</th>\n",
              "      <th>Question</th>\n",
              "      <th>Subject Entity</th>\n",
              "      <th>Compared Aspect</th>\n",
              "      <th>Object Entity</th>\n",
              "      <th>Preference Category</th>\n",
              "      <th>Constraint</th>\n",
              "    </tr>\n",
              "  </thead>\n",
              "  <tbody>\n",
              "    <tr>\n",
              "      <td>699</td>\n",
              "      <td>Which smartphone is equivalent to the OnePlus 8 , Xiaomi mi 10 or Samsung Galaxy S 10 ?</td>\n",
              "      <td>Xiaomi mi 10</td>\n",
              "      <td>All</td>\n",
              "      <td>OnePlus 8</td>\n",
              "      <td>E</td>\n",
              "      <td>None</td>\n",
              "    </tr>\n",
              "  </tbody>\n",
              "</table>"
            ]
          },
          "metadata": {}
        },
        {
          "output_type": "display_data",
          "data": {
            "text/plain": [
              "<IPython.core.display.HTML object>"
            ],
            "text/html": [
              "<table border=\"1\" class=\"dataframe\">\n",
              "  <thead>\n",
              "    <tr style=\"text-align: right;\">\n",
              "      <th>ID</th>\n",
              "      <th>Question</th>\n",
              "      <th>Subject Entity</th>\n",
              "      <th>Compared Aspect</th>\n",
              "      <th>Object Entity</th>\n",
              "      <th>Preference Category</th>\n",
              "      <th>Constraint</th>\n",
              "    </tr>\n",
              "  </thead>\n",
              "  <tbody>\n",
              "    <tr>\n",
              "      <td>699</td>\n",
              "      <td>Which smartphone is equivalent to the OnePlus 8 , Xiaomi mi 10 or Samsung Galaxy S 10 ?</td>\n",
              "      <td>Samsung Galaxy S10</td>\n",
              "      <td>All</td>\n",
              "      <td>OnePlus 8</td>\n",
              "      <td>XorE</td>\n",
              "      <td>None</td>\n",
              "    </tr>\n",
              "  </tbody>\n",
              "</table>"
            ]
          },
          "metadata": {}
        }
      ]
    },
    {
      "cell_type": "markdown",
      "source": [
        "As can be seen, the Relations table consists of subjective comparative relations. Each entry is a list containing the following elements:\n",
        "\n",
        "- **ID**: A unique identifier for the question.\n",
        "- **Question**: The subjective comparative question text.\n",
        "- **Subject Entity**: The main entity that the question is about.\n",
        "- **Compared Aspect**: The specific features or aspects being compared.\n",
        "- **Object Entity**: Other entities that are being compared with the subject.\n",
        "- **Preference Category**: The type of preference expressed in the question.\n",
        "- **Constraint**: Any constraints or conditions applied to the comparative question.\n"
      ],
      "metadata": {
        "papermill": {
          "duration": 0.009406,
          "end_time": "2023-11-16T17:36:13.029466",
          "exception": false,
          "start_time": "2023-11-16T17:36:13.020060",
          "status": "completed"
        },
        "tags": [],
        "id": "IUiPF3aLGKjo"
      }
    },
    {
      "cell_type": "code",
      "source": [
        "###################################################################################################"
      ],
      "metadata": {
        "papermill": {
          "duration": 0.019323,
          "end_time": "2023-11-16T17:36:13.058728",
          "exception": false,
          "start_time": "2023-11-16T17:36:13.039405",
          "status": "completed"
        },
        "tags": [],
        "execution": {
          "iopub.status.busy": "2023-11-17T06:18:13.661074Z",
          "iopub.execute_input": "2023-11-17T06:18:13.661472Z",
          "iopub.status.idle": "2023-11-17T06:18:13.666295Z",
          "shell.execute_reply.started": "2023-11-17T06:18:13.661441Z",
          "shell.execute_reply": "2023-11-17T06:18:13.665021Z"
        },
        "trusted": true,
        "id": "2lFAveh_GKjp"
      },
      "execution_count": 21,
      "outputs": []
    },
    {
      "cell_type": "markdown",
      "source": [
        "## Element Extraction\n",
        "In this section, we will explore the Elemens table, particularly focusing on the process of Element Extraction. This process is critical for understanding the intricacies of subjective comparative questions, as it involves identifying key elements: Products, Aspects, and Constraints within these questions. Understanding these elements is fundamental to analyzing the table's content and structure.\n",
        "\n",
        "Our dataset analysis involves:\n",
        "- **Product Extraction**: Identifying the main entities or items being discussed or compared in the questions.\n",
        "- **Aspect Extraction**: Pinpointing specific features or characteristics of the products that are the focus of comparison.\n",
        "- **Constraint Extraction**: Recognizing conditions or limitations that frame the nature of the comparison.\n",
        "\n",
        "To achieve a detailed and nuanced extraction of these elements, we utilize an Enhanced BIO Labeling Scheme. This scheme is crucial for accurately tagging and categorizing each part of the questions."
      ],
      "metadata": {
        "papermill": {
          "duration": 0.009986,
          "end_time": "2023-11-16T17:36:13.079465",
          "exception": false,
          "start_time": "2023-11-16T17:36:13.069479",
          "status": "completed"
        },
        "tags": [],
        "id": "1uU6vhp-GKjp"
      }
    },
    {
      "cell_type": "markdown",
      "source": [
        "### Enhanced BIO Labeling Scheme\n",
        "\n",
        "To effectively extract the subjective comparative relation quintuples from the dataset, we enhance the traditional BIO tagging scheme with specialized labels for each category of interest: Entities, Aspects, and Constraints. The scheme uses a set of labels defined as follows:\n",
        "\n",
        "- `B-E`: Beginning of an Entity\n",
        "- `I-E`: Inside an Entity\n",
        "- `O-E`: Outside an Entity\n",
        "- `B-A`: Beginning of an Aspect\n",
        "- `I-A`: Inside an Aspect\n",
        "- `O-A`: Outside an Aspect\n",
        "- `B-C`: Beginning of a Constraint\n",
        "- `I-C`: Inside a Constraint\n",
        "- `O-C`: Outside a Constraint\n",
        "\n",
        "This allows us to more precisely annotate our dataset for training machine learning models. Let's delve into the specifics of our dataset and see how these elements manifest in the subjective comparative questions."
      ],
      "metadata": {
        "papermill": {
          "duration": 0.009894,
          "end_time": "2023-11-16T17:36:13.099268",
          "exception": false,
          "start_time": "2023-11-16T17:36:13.089374",
          "status": "completed"
        },
        "tags": [],
        "id": "3PvW78MMGKjq"
      }
    },
    {
      "cell_type": "markdown",
      "source": [
        "Below is an illustration of this scheme:"
      ],
      "metadata": {
        "papermill": {
          "duration": 0.010103,
          "end_time": "2023-11-16T17:36:13.119541",
          "exception": false,
          "start_time": "2023-11-16T17:36:13.109438",
          "status": "completed"
        },
        "tags": [],
        "id": "YF0D0FZnGKjq"
      }
    },
    {
      "cell_type": "code",
      "source": [
        "import pandas as pd\n",
        "from IPython.display import display, HTML\n",
        "\n",
        "# Retrieve the value associated with 'key:1', with a default value of 'not found'\n",
        "key=1\n",
        "\n",
        "question = QuestionDict.get(key, 'not found')\n",
        "values = Product_Aspect_Contraint_dict.get(key, 'not found')\n",
        "\n",
        "# Print the value\n",
        "#print(question)\n",
        "#print(values)\n",
        "\n",
        "\n",
        "# Function to prepare and display the data in a table format\n",
        "def display_enhanced_bio_table(question,values):\n",
        "   # for key, (entity_labels, aspect_labels, constraint_labels) in sample_dict.items():\n",
        "        tokens = question.split()\n",
        "       # print(len(tokens))\n",
        "        entity_labels = values[0][0].split()\n",
        "        #print(len(entity_labels))\n",
        "        aspect_labels = values[1][0].split()\n",
        "        #print(len(aspect_labels))\n",
        "        constraint_labels = values[2][0].split()\n",
        "       # print(len(constraint_labels))\n",
        "\n",
        "        # Check if the lengths match\n",
        "        if not (len(tokens) == len(entity_labels) == len(aspect_labels) == len(constraint_labels)):\n",
        "            raise ValueError(\"The number of tokens and labels must be the same\")\n",
        "\n",
        "        # Create a DataFrame\n",
        "        df_example = pd.DataFrame({\n",
        "            'Token': tokens,\n",
        "            'Product': ['B-P' if label == 'B' else ('I-P' if label == 'I' else 'O-P') for label in entity_labels],\n",
        "\n",
        "            'Aspect': ['B-A' if label == 'B' else ('I-A' if label == 'I' else 'O-A') for label in aspect_labels],\n",
        "\n",
        "            'Constraint': ['B-C' if label == 'B' else ('I-C' if label == 'I' else 'O-C') for label in constraint_labels],\n",
        "\n",
        "        })\n",
        "\n",
        "        # Display the DataFrame as an HTML table\n",
        "        #display(HTML(f'<h3>Table for Key: {key}</h3>'))\n",
        "        display(HTML(df_example.to_html(index=False)))\n",
        "\n",
        "# Call the function with the sample data\n",
        "display_enhanced_bio_table(question,values)\n"
      ],
      "metadata": {
        "papermill": {
          "duration": 0.034742,
          "end_time": "2023-11-16T17:36:13.164975",
          "exception": false,
          "start_time": "2023-11-16T17:36:13.130233",
          "status": "completed"
        },
        "tags": [],
        "execution": {
          "iopub.status.busy": "2023-11-17T06:18:13.667931Z",
          "iopub.execute_input": "2023-11-17T06:18:13.668254Z",
          "iopub.status.idle": "2023-11-17T06:18:13.685656Z",
          "shell.execute_reply.started": "2023-11-17T06:18:13.668215Z",
          "shell.execute_reply": "2023-11-17T06:18:13.684633Z"
        },
        "trusted": true,
        "colab": {
          "base_uri": "https://localhost:8080/",
          "height": 770
        },
        "id": "k_0zzeu9GKjq",
        "outputId": "0414a83d-a3ae-4c9c-f7e8-8056fe8f2c6e"
      },
      "execution_count": 22,
      "outputs": [
        {
          "output_type": "display_data",
          "data": {
            "text/plain": [
              "<IPython.core.display.HTML object>"
            ],
            "text/html": [
              "<table border=\"1\" class=\"dataframe\">\n",
              "  <thead>\n",
              "    <tr style=\"text-align: right;\">\n",
              "      <th>Token</th>\n",
              "      <th>Product</th>\n",
              "      <th>Aspect</th>\n",
              "      <th>Constraint</th>\n",
              "    </tr>\n",
              "  </thead>\n",
              "  <tbody>\n",
              "    <tr>\n",
              "      <td>What</td>\n",
              "      <td>O-P</td>\n",
              "      <td>O-A</td>\n",
              "      <td>O-C</td>\n",
              "    </tr>\n",
              "    <tr>\n",
              "      <td>are</td>\n",
              "      <td>O-P</td>\n",
              "      <td>O-A</td>\n",
              "      <td>O-C</td>\n",
              "    </tr>\n",
              "    <tr>\n",
              "      <td>the</td>\n",
              "      <td>O-P</td>\n",
              "      <td>O-A</td>\n",
              "      <td>O-C</td>\n",
              "    </tr>\n",
              "    <tr>\n",
              "      <td>best</td>\n",
              "      <td>O-P</td>\n",
              "      <td>O-A</td>\n",
              "      <td>O-C</td>\n",
              "    </tr>\n",
              "    <tr>\n",
              "      <td>smartphones</td>\n",
              "      <td>O-P</td>\n",
              "      <td>O-A</td>\n",
              "      <td>O-C</td>\n",
              "    </tr>\n",
              "    <tr>\n",
              "      <td>with</td>\n",
              "      <td>O-P</td>\n",
              "      <td>O-A</td>\n",
              "      <td>O-C</td>\n",
              "    </tr>\n",
              "    <tr>\n",
              "      <td>a</td>\n",
              "      <td>O-P</td>\n",
              "      <td>O-A</td>\n",
              "      <td>O-C</td>\n",
              "    </tr>\n",
              "    <tr>\n",
              "      <td>built</td>\n",
              "      <td>O-P</td>\n",
              "      <td>O-A</td>\n",
              "      <td>O-C</td>\n",
              "    </tr>\n",
              "    <tr>\n",
              "      <td>in</td>\n",
              "      <td>O-P</td>\n",
              "      <td>O-A</td>\n",
              "      <td>O-C</td>\n",
              "    </tr>\n",
              "    <tr>\n",
              "      <td>stylus</td>\n",
              "      <td>O-P</td>\n",
              "      <td>O-A</td>\n",
              "      <td>O-C</td>\n",
              "    </tr>\n",
              "    <tr>\n",
              "      <td>feature</td>\n",
              "      <td>O-P</td>\n",
              "      <td>O-A</td>\n",
              "      <td>O-C</td>\n",
              "    </tr>\n",
              "    <tr>\n",
              "      <td>with</td>\n",
              "      <td>O-P</td>\n",
              "      <td>O-A</td>\n",
              "      <td>O-C</td>\n",
              "    </tr>\n",
              "    <tr>\n",
              "      <td>a</td>\n",
              "      <td>O-P</td>\n",
              "      <td>O-A</td>\n",
              "      <td>O-C</td>\n",
              "    </tr>\n",
              "    <tr>\n",
              "      <td>good</td>\n",
              "      <td>O-P</td>\n",
              "      <td>O-A</td>\n",
              "      <td>O-C</td>\n",
              "    </tr>\n",
              "    <tr>\n",
              "      <td>quality</td>\n",
              "      <td>O-P</td>\n",
              "      <td>O-A</td>\n",
              "      <td>O-C</td>\n",
              "    </tr>\n",
              "    <tr>\n",
              "      <td>display</td>\n",
              "      <td>O-P</td>\n",
              "      <td>O-A</td>\n",
              "      <td>O-C</td>\n",
              "    </tr>\n",
              "    <tr>\n",
              "      <td>and</td>\n",
              "      <td>O-P</td>\n",
              "      <td>O-A</td>\n",
              "      <td>O-C</td>\n",
              "    </tr>\n",
              "    <tr>\n",
              "      <td>RAM</td>\n",
              "      <td>O-P</td>\n",
              "      <td>O-A</td>\n",
              "      <td>O-C</td>\n",
              "    </tr>\n",
              "    <tr>\n",
              "      <td>,</td>\n",
              "      <td>O-P</td>\n",
              "      <td>O-A</td>\n",
              "      <td>O-C</td>\n",
              "    </tr>\n",
              "    <tr>\n",
              "      <td>other</td>\n",
              "      <td>O-P</td>\n",
              "      <td>O-A</td>\n",
              "      <td>O-C</td>\n",
              "    </tr>\n",
              "    <tr>\n",
              "      <td>than</td>\n",
              "      <td>O-P</td>\n",
              "      <td>O-A</td>\n",
              "      <td>O-C</td>\n",
              "    </tr>\n",
              "    <tr>\n",
              "      <td>Samsung</td>\n",
              "      <td>O-P</td>\n",
              "      <td>O-A</td>\n",
              "      <td>O-C</td>\n",
              "    </tr>\n",
              "    <tr>\n",
              "      <td>?</td>\n",
              "      <td>O-P</td>\n",
              "      <td>O-A</td>\n",
              "      <td>O-C</td>\n",
              "    </tr>\n",
              "  </tbody>\n",
              "</table>"
            ]
          },
          "metadata": {}
        }
      ]
    },
    {
      "cell_type": "markdown",
      "source": [
        "The table above shows an example sentence annotated with our enhanced BIO scheme. Each token (word) from the sentence is classified according to whether it signifies the beginning (B), inside (I), or outside (O) of the three categories: Entity (E), Aspect (A), and Constraint (C).\n"
      ],
      "metadata": {
        "papermill": {
          "duration": 0.009964,
          "end_time": "2023-11-16T17:36:13.184907",
          "exception": false,
          "start_time": "2023-11-16T17:36:13.174943",
          "status": "completed"
        },
        "tags": [],
        "id": "HnP07t35GKjq"
      }
    },
    {
      "cell_type": "code",
      "source": [
        "###################################################################################################"
      ],
      "metadata": {
        "papermill": {
          "duration": 0.019433,
          "end_time": "2023-11-16T17:36:13.214490",
          "exception": false,
          "start_time": "2023-11-16T17:36:13.195057",
          "status": "completed"
        },
        "tags": [],
        "execution": {
          "iopub.status.busy": "2023-11-17T06:18:13.687403Z",
          "iopub.execute_input": "2023-11-17T06:18:13.688514Z",
          "iopub.status.idle": "2023-11-17T06:18:13.699114Z",
          "shell.execute_reply.started": "2023-11-17T06:18:13.688479Z",
          "shell.execute_reply": "2023-11-17T06:18:13.697817Z"
        },
        "trusted": true,
        "id": "7Xrd4GvSGKjq"
      },
      "execution_count": 23,
      "outputs": []
    },
    {
      "cell_type": "markdown",
      "source": [
        "## Entity Role Identification (ERI)\n",
        "\n",
        "### Overview of the ERI Task\n",
        "\n",
        "We define the Entity Role Identification (ERI) task as a crucial process in natural language processing that involves identifying and classifying the roles of entities within a given text. In the context of subjective comparative questions, this task focuses on discerning the specific roles that entities play—such as being the subject of comparison, the object of comparison, or other relevant roles.\n",
        "\n",
        "\n",
        "Let's now demonstrate the application of the ERI task on a sample of our dataset and then explore the structure and content of the Entity Role table.\n"
      ],
      "metadata": {
        "papermill": {
          "duration": 0.009641,
          "end_time": "2023-11-16T17:36:13.234896",
          "exception": false,
          "start_time": "2023-11-16T17:36:13.225255",
          "status": "completed"
        },
        "tags": [],
        "id": "DlnjLn2QGKjq"
      }
    },
    {
      "cell_type": "code",
      "source": [
        "import pandas as pd\n",
        "from IPython.display import display, HTML\n",
        "import random\n",
        "\n",
        "# Function to format the display of lists within the DataFrame\n",
        "def format_list_for_display(series):\n",
        "    return series.apply(lambda x: ', '.join(x) if isinstance(x, list) else x)\n",
        "\n",
        "# Sample dictionary as provided in the question\n",
        "\n",
        "# Function to get keys where the value has more than 3 items\n",
        "def find_keys_with_value_length_greater_than_three(data):\n",
        "    keys_with_more_than_three = [key for key, value in data.items() if len(value) >= 3]\n",
        "    return keys_with_more_than_three\n",
        "\n",
        "# Get the keys with values longer than 3 items\n",
        "keys_with_values_longer_than_three = find_keys_with_value_length_greater_than_three(EntityRoleIdentificaionDict)\n",
        "\n",
        "# Randomly select 5 keys from the list, if there are at least 5 keys\n",
        "keys_to_display = random.sample(keys_with_values_longer_than_three, min(len(keys_with_values_longer_than_three), 3))\n",
        "\n",
        "# Function to display the DataFrame in HTML format for the given keys and their values\n",
        "def display_sampled_keys_df(keys_with_values, category_name):\n",
        "    print(f\"--- {category_name} ---\")\n",
        "\n",
        "    for key in keys_with_values:\n",
        "        values = EntityRoleIdentificaionDict[key]\n",
        "        question = QuestionDict.get(key, 'not found')\n",
        "        # Assuming the values are structured as a list of lists\n",
        "        for value in values:\n",
        "            example_data = {\n",
        "                'ID': key,\n",
        "                'Question': question,  # Assuming the question is the first item\n",
        "                'Pseudo-Sentence': value[0],\n",
        "                'Entity Role': value[1]\n",
        "            }\n",
        "\n",
        "            df_example = pd.DataFrame([example_data])  # Create a DataFrame from a list of dicts\n",
        "\n",
        "            # Apply formatting function to the DataFrame\n",
        "            for column in df_example.columns:\n",
        "                if isinstance(df_example[column].iloc[0], list):\n",
        "                    df_example[column] = format_list_for_display(df_example[column])\n",
        "\n",
        "            # Display the DataFrame in HTML\n",
        "            display(HTML(df_example.to_html(index=False)))\n",
        "\n",
        "# Call the function to display the sampled keys\n",
        "display_sampled_keys_df(keys_to_display, \"Selected Keys with Values Longer Than Three\")\n"
      ],
      "metadata": {
        "papermill": {
          "duration": 0.09737,
          "end_time": "2023-11-16T17:36:13.342327",
          "exception": false,
          "start_time": "2023-11-16T17:36:13.244957",
          "status": "completed"
        },
        "tags": [],
        "execution": {
          "iopub.status.busy": "2023-11-17T06:18:13.701282Z",
          "iopub.execute_input": "2023-11-17T06:18:13.701822Z",
          "iopub.status.idle": "2023-11-17T06:18:13.760990Z",
          "shell.execute_reply.started": "2023-11-17T06:18:13.701783Z",
          "shell.execute_reply": "2023-11-17T06:18:13.759639Z"
        },
        "trusted": true,
        "colab": {
          "base_uri": "https://localhost:8080/",
          "height": 1000
        },
        "id": "ojPexogaGKjq",
        "outputId": "8b5ea77f-9ad7-4b7b-b2be-16b67fb7945e"
      },
      "execution_count": 24,
      "outputs": [
        {
          "output_type": "stream",
          "name": "stdout",
          "text": [
            "--- Selected Keys with Values Longer Than Three ---\n"
          ]
        },
        {
          "output_type": "display_data",
          "data": {
            "text/plain": [
              "<IPython.core.display.HTML object>"
            ],
            "text/html": [
              "<table border=\"1\" class=\"dataframe\">\n",
              "  <thead>\n",
              "    <tr style=\"text-align: right;\">\n",
              "      <th>ID</th>\n",
              "      <th>Question</th>\n",
              "      <th>Pseudo-Sentence</th>\n",
              "      <th>Entity Role</th>\n",
              "    </tr>\n",
              "  </thead>\n",
              "  <tbody>\n",
              "    <tr>\n",
              "      <td>1</td>\n",
              "      <td>What are the best smartphones with a built in stylus feature with a good quality display and RAM , other than Samsung ?</td>\n",
              "      <td>Samsung - built in stylus feature</td>\n",
              "      <td>0</td>\n",
              "    </tr>\n",
              "  </tbody>\n",
              "</table>"
            ]
          },
          "metadata": {}
        },
        {
          "output_type": "display_data",
          "data": {
            "text/plain": [
              "<IPython.core.display.HTML object>"
            ],
            "text/html": [
              "<table border=\"1\" class=\"dataframe\">\n",
              "  <thead>\n",
              "    <tr style=\"text-align: right;\">\n",
              "      <th>ID</th>\n",
              "      <th>Question</th>\n",
              "      <th>Pseudo-Sentence</th>\n",
              "      <th>Entity Role</th>\n",
              "    </tr>\n",
              "  </thead>\n",
              "  <tbody>\n",
              "    <tr>\n",
              "      <td>1</td>\n",
              "      <td>What are the best smartphones with a built in stylus feature with a good quality display and RAM , other than Samsung ?</td>\n",
              "      <td>Samsung - quality display</td>\n",
              "      <td>0</td>\n",
              "    </tr>\n",
              "  </tbody>\n",
              "</table>"
            ]
          },
          "metadata": {}
        },
        {
          "output_type": "display_data",
          "data": {
            "text/plain": [
              "<IPython.core.display.HTML object>"
            ],
            "text/html": [
              "<table border=\"1\" class=\"dataframe\">\n",
              "  <thead>\n",
              "    <tr style=\"text-align: right;\">\n",
              "      <th>ID</th>\n",
              "      <th>Question</th>\n",
              "      <th>Pseudo-Sentence</th>\n",
              "      <th>Entity Role</th>\n",
              "    </tr>\n",
              "  </thead>\n",
              "  <tbody>\n",
              "    <tr>\n",
              "      <td>1</td>\n",
              "      <td>What are the best smartphones with a built in stylus feature with a good quality display and RAM , other than Samsung ?</td>\n",
              "      <td>Samsung - RAM</td>\n",
              "      <td>0</td>\n",
              "    </tr>\n",
              "  </tbody>\n",
              "</table>"
            ]
          },
          "metadata": {}
        },
        {
          "output_type": "display_data",
          "data": {
            "text/plain": [
              "<IPython.core.display.HTML object>"
            ],
            "text/html": [
              "<table border=\"1\" class=\"dataframe\">\n",
              "  <thead>\n",
              "    <tr style=\"text-align: right;\">\n",
              "      <th>ID</th>\n",
              "      <th>Question</th>\n",
              "      <th>Pseudo-Sentence</th>\n",
              "      <th>Entity Role</th>\n",
              "    </tr>\n",
              "  </thead>\n",
              "  <tbody>\n",
              "    <tr>\n",
              "      <td>1024</td>\n",
              "      <td>Why is the camera performance of the iPhone 12 Pro so much worse than the iPhone 12 , but its compactness and rebound speed is a bit better ?</td>\n",
              "      <td>iPhone 12 Pro - camera performance</td>\n",
              "      <td>1</td>\n",
              "    </tr>\n",
              "  </tbody>\n",
              "</table>"
            ]
          },
          "metadata": {}
        },
        {
          "output_type": "display_data",
          "data": {
            "text/plain": [
              "<IPython.core.display.HTML object>"
            ],
            "text/html": [
              "<table border=\"1\" class=\"dataframe\">\n",
              "  <thead>\n",
              "    <tr style=\"text-align: right;\">\n",
              "      <th>ID</th>\n",
              "      <th>Question</th>\n",
              "      <th>Pseudo-Sentence</th>\n",
              "      <th>Entity Role</th>\n",
              "    </tr>\n",
              "  </thead>\n",
              "  <tbody>\n",
              "    <tr>\n",
              "      <td>1024</td>\n",
              "      <td>Why is the camera performance of the iPhone 12 Pro so much worse than the iPhone 12 , but its compactness and rebound speed is a bit better ?</td>\n",
              "      <td>iPhone 12 - camera performance</td>\n",
              "      <td>1</td>\n",
              "    </tr>\n",
              "  </tbody>\n",
              "</table>"
            ]
          },
          "metadata": {}
        },
        {
          "output_type": "display_data",
          "data": {
            "text/plain": [
              "<IPython.core.display.HTML object>"
            ],
            "text/html": [
              "<table border=\"1\" class=\"dataframe\">\n",
              "  <thead>\n",
              "    <tr style=\"text-align: right;\">\n",
              "      <th>ID</th>\n",
              "      <th>Question</th>\n",
              "      <th>Pseudo-Sentence</th>\n",
              "      <th>Entity Role</th>\n",
              "    </tr>\n",
              "  </thead>\n",
              "  <tbody>\n",
              "    <tr>\n",
              "      <td>1024</td>\n",
              "      <td>Why is the camera performance of the iPhone 12 Pro so much worse than the iPhone 12 , but its compactness and rebound speed is a bit better ?</td>\n",
              "      <td></td>\n",
              "      <td>2</td>\n",
              "    </tr>\n",
              "  </tbody>\n",
              "</table>"
            ]
          },
          "metadata": {}
        },
        {
          "output_type": "display_data",
          "data": {
            "text/plain": [
              "<IPython.core.display.HTML object>"
            ],
            "text/html": [
              "<table border=\"1\" class=\"dataframe\">\n",
              "  <thead>\n",
              "    <tr style=\"text-align: right;\">\n",
              "      <th>ID</th>\n",
              "      <th>Question</th>\n",
              "      <th>Pseudo-Sentence</th>\n",
              "      <th>Entity Role</th>\n",
              "    </tr>\n",
              "  </thead>\n",
              "  <tbody>\n",
              "    <tr>\n",
              "      <td>1024</td>\n",
              "      <td>Why is the camera performance of the iPhone 12 Pro so much worse than the iPhone 12 , but its compactness and rebound speed is a bit better ?</td>\n",
              "      <td>iPhone 12 Pro - compactness</td>\n",
              "      <td>1</td>\n",
              "    </tr>\n",
              "  </tbody>\n",
              "</table>"
            ]
          },
          "metadata": {}
        },
        {
          "output_type": "display_data",
          "data": {
            "text/plain": [
              "<IPython.core.display.HTML object>"
            ],
            "text/html": [
              "<table border=\"1\" class=\"dataframe\">\n",
              "  <thead>\n",
              "    <tr style=\"text-align: right;\">\n",
              "      <th>ID</th>\n",
              "      <th>Question</th>\n",
              "      <th>Pseudo-Sentence</th>\n",
              "      <th>Entity Role</th>\n",
              "    </tr>\n",
              "  </thead>\n",
              "  <tbody>\n",
              "    <tr>\n",
              "      <td>1024</td>\n",
              "      <td>Why is the camera performance of the iPhone 12 Pro so much worse than the iPhone 12 , but its compactness and rebound speed is a bit better ?</td>\n",
              "      <td>iPhone 12 - compactness</td>\n",
              "      <td>1</td>\n",
              "    </tr>\n",
              "  </tbody>\n",
              "</table>"
            ]
          },
          "metadata": {}
        },
        {
          "output_type": "display_data",
          "data": {
            "text/plain": [
              "<IPython.core.display.HTML object>"
            ],
            "text/html": [
              "<table border=\"1\" class=\"dataframe\">\n",
              "  <thead>\n",
              "    <tr style=\"text-align: right;\">\n",
              "      <th>ID</th>\n",
              "      <th>Question</th>\n",
              "      <th>Pseudo-Sentence</th>\n",
              "      <th>Entity Role</th>\n",
              "    </tr>\n",
              "  </thead>\n",
              "  <tbody>\n",
              "    <tr>\n",
              "      <td>1024</td>\n",
              "      <td>Why is the camera performance of the iPhone 12 Pro so much worse than the iPhone 12 , but its compactness and rebound speed is a bit better ?</td>\n",
              "      <td></td>\n",
              "      <td>2</td>\n",
              "    </tr>\n",
              "  </tbody>\n",
              "</table>"
            ]
          },
          "metadata": {}
        },
        {
          "output_type": "display_data",
          "data": {
            "text/plain": [
              "<IPython.core.display.HTML object>"
            ],
            "text/html": [
              "<table border=\"1\" class=\"dataframe\">\n",
              "  <thead>\n",
              "    <tr style=\"text-align: right;\">\n",
              "      <th>ID</th>\n",
              "      <th>Question</th>\n",
              "      <th>Pseudo-Sentence</th>\n",
              "      <th>Entity Role</th>\n",
              "    </tr>\n",
              "  </thead>\n",
              "  <tbody>\n",
              "    <tr>\n",
              "      <td>1024</td>\n",
              "      <td>Why is the camera performance of the iPhone 12 Pro so much worse than the iPhone 12 , but its compactness and rebound speed is a bit better ?</td>\n",
              "      <td>iPhone 12 Pro - rebound speed</td>\n",
              "      <td>1</td>\n",
              "    </tr>\n",
              "  </tbody>\n",
              "</table>"
            ]
          },
          "metadata": {}
        },
        {
          "output_type": "display_data",
          "data": {
            "text/plain": [
              "<IPython.core.display.HTML object>"
            ],
            "text/html": [
              "<table border=\"1\" class=\"dataframe\">\n",
              "  <thead>\n",
              "    <tr style=\"text-align: right;\">\n",
              "      <th>ID</th>\n",
              "      <th>Question</th>\n",
              "      <th>Pseudo-Sentence</th>\n",
              "      <th>Entity Role</th>\n",
              "    </tr>\n",
              "  </thead>\n",
              "  <tbody>\n",
              "    <tr>\n",
              "      <td>1024</td>\n",
              "      <td>Why is the camera performance of the iPhone 12 Pro so much worse than the iPhone 12 , but its compactness and rebound speed is a bit better ?</td>\n",
              "      <td>iPhone 12 - rebound speed</td>\n",
              "      <td>1</td>\n",
              "    </tr>\n",
              "  </tbody>\n",
              "</table>"
            ]
          },
          "metadata": {}
        },
        {
          "output_type": "display_data",
          "data": {
            "text/plain": [
              "<IPython.core.display.HTML object>"
            ],
            "text/html": [
              "<table border=\"1\" class=\"dataframe\">\n",
              "  <thead>\n",
              "    <tr style=\"text-align: right;\">\n",
              "      <th>ID</th>\n",
              "      <th>Question</th>\n",
              "      <th>Pseudo-Sentence</th>\n",
              "      <th>Entity Role</th>\n",
              "    </tr>\n",
              "  </thead>\n",
              "  <tbody>\n",
              "    <tr>\n",
              "      <td>1024</td>\n",
              "      <td>Why is the camera performance of the iPhone 12 Pro so much worse than the iPhone 12 , but its compactness and rebound speed is a bit better ?</td>\n",
              "      <td></td>\n",
              "      <td>2</td>\n",
              "    </tr>\n",
              "  </tbody>\n",
              "</table>"
            ]
          },
          "metadata": {}
        },
        {
          "output_type": "display_data",
          "data": {
            "text/plain": [
              "<IPython.core.display.HTML object>"
            ],
            "text/html": [
              "<table border=\"1\" class=\"dataframe\">\n",
              "  <thead>\n",
              "    <tr style=\"text-align: right;\">\n",
              "      <th>ID</th>\n",
              "      <th>Question</th>\n",
              "      <th>Pseudo-Sentence</th>\n",
              "      <th>Entity Role</th>\n",
              "    </tr>\n",
              "  </thead>\n",
              "  <tbody>\n",
              "    <tr>\n",
              "      <td>806</td>\n",
              "      <td>Why are Samsung so bad compared to Xiaomi and Realme offering ?</td>\n",
              "      <td>Samsung - features</td>\n",
              "      <td>1</td>\n",
              "    </tr>\n",
              "  </tbody>\n",
              "</table>"
            ]
          },
          "metadata": {}
        },
        {
          "output_type": "display_data",
          "data": {
            "text/plain": [
              "<IPython.core.display.HTML object>"
            ],
            "text/html": [
              "<table border=\"1\" class=\"dataframe\">\n",
              "  <thead>\n",
              "    <tr style=\"text-align: right;\">\n",
              "      <th>ID</th>\n",
              "      <th>Question</th>\n",
              "      <th>Pseudo-Sentence</th>\n",
              "      <th>Entity Role</th>\n",
              "    </tr>\n",
              "  </thead>\n",
              "  <tbody>\n",
              "    <tr>\n",
              "      <td>806</td>\n",
              "      <td>Why are Samsung so bad compared to Xiaomi and Realme offering ?</td>\n",
              "      <td>Xiaomi - features</td>\n",
              "      <td>2</td>\n",
              "    </tr>\n",
              "  </tbody>\n",
              "</table>"
            ]
          },
          "metadata": {}
        },
        {
          "output_type": "display_data",
          "data": {
            "text/plain": [
              "<IPython.core.display.HTML object>"
            ],
            "text/html": [
              "<table border=\"1\" class=\"dataframe\">\n",
              "  <thead>\n",
              "    <tr style=\"text-align: right;\">\n",
              "      <th>ID</th>\n",
              "      <th>Question</th>\n",
              "      <th>Pseudo-Sentence</th>\n",
              "      <th>Entity Role</th>\n",
              "    </tr>\n",
              "  </thead>\n",
              "  <tbody>\n",
              "    <tr>\n",
              "      <td>806</td>\n",
              "      <td>Why are Samsung so bad compared to Xiaomi and Realme offering ?</td>\n",
              "      <td>Realme - features</td>\n",
              "      <td>2</td>\n",
              "    </tr>\n",
              "  </tbody>\n",
              "</table>"
            ]
          },
          "metadata": {}
        }
      ]
    },
    {
      "cell_type": "markdown",
      "source": [
        "### Utilizing Sentence-Pair Classification for ERI\n",
        "\n",
        "In the Entity Role Identification (ERI) process within the SCRQD dataset, we employ the sentence-pair classification method, an essential technique in Natural Language Inference (NLI) tasks. This method is particularly effective for analyzing the structure and intent of subjective comparative questions.\n",
        "\n",
        "#### Utilizing NLI-M for Pseudo-Sentence Generation\n",
        "\n",
        "To prepare our data for the ERI task using sentence-pair classification, we transform the original comparative questions into pseudo-sentences, adhering to a specific method:\n",
        "\n",
        "- **Combining Entities with Aspects**: In each question, we identify and pair each mentioned entity with an aspect. If no specific aspect is mentioned, we use \"features\" as a placeholder. This is essential for maintaining the focus of the comparison within the question.\n",
        "- **Use of a Hyphen (\"-\")**: We employ a hyphen (\"-\") to separate each entity-aspect pair, creating clear and structured pseudo-sentences. This formatting not only simplifies the original text but also preserves the core elements of comparison, enhancing its suitability for computational analysis.\n",
        "\n",
        "#### Pairing with Labels\n",
        "\n",
        "Each pseudo-sentence is subsequently paired with a label that signifies the role of entities within the question:\n",
        "  - Label \"1\" for the \"Subject\" role.\n",
        "  - Label \"2\" for the \"Object\" role.\n",
        "  - Label \"0\" for \"None\", indicating either no specific role or a neutral aspect in the question's context.\n",
        "\n",
        "These labels are pivotal in guiding our classification model to accurately identify and categorize the roles of entities in the questions.\n"
      ],
      "metadata": {
        "papermill": {
          "duration": 0.012185,
          "end_time": "2023-11-16T17:36:13.367843",
          "exception": false,
          "start_time": "2023-11-16T17:36:13.355658",
          "status": "completed"
        },
        "tags": [],
        "id": "mnyMxbg4GKjq"
      }
    },
    {
      "cell_type": "code",
      "source": [
        "###################################################################################################"
      ],
      "metadata": {
        "papermill": {
          "duration": 0.021894,
          "end_time": "2023-11-16T17:36:13.402394",
          "exception": false,
          "start_time": "2023-11-16T17:36:13.380500",
          "status": "completed"
        },
        "tags": [],
        "execution": {
          "iopub.status.busy": "2023-11-17T06:18:13.762729Z",
          "iopub.execute_input": "2023-11-17T06:18:13.763082Z",
          "iopub.status.idle": "2023-11-17T06:18:13.767757Z",
          "shell.execute_reply.started": "2023-11-17T06:18:13.763054Z",
          "shell.execute_reply": "2023-11-17T06:18:13.766453Z"
        },
        "trusted": true,
        "id": "HMpIm5rVGKjq"
      },
      "execution_count": 25,
      "outputs": []
    },
    {
      "cell_type": "markdown",
      "source": [
        "## Comparative Preference Classification (CPC)\n",
        "\n",
        "### Overview of the CPC Task\n",
        "The Comparative Preference Classification (CPC) task is a pivotal component of our study in understanding subjective comparative questions. This task involves classifying the nature of preferences expressed in comparative questions, such as determining whether a subjective comparison implies a preference for one entity over another.\n",
        "\n",
        "Next, we will dive into a detailed exploration of this table, examining sample entries and their classifications to understand better how preferences are articulated and categorized in our dataset."
      ],
      "metadata": {
        "papermill": {
          "duration": 0.012468,
          "end_time": "2023-11-16T17:36:13.427977",
          "exception": false,
          "start_time": "2023-11-16T17:36:13.415509",
          "status": "completed"
        },
        "tags": [],
        "id": "iSsyd78UGKjq"
      }
    },
    {
      "cell_type": "code",
      "source": [
        "\n",
        "\n",
        "# Sample 10 keys from the dictionary\n",
        "random_keys = random.sample(list(CPCDict.keys()), 10)\n",
        "\n",
        "# Build the example_data structure based on the sampled keys\n",
        "example_data = {\n",
        "    'ID': [],\n",
        "    'Question': [],\n",
        "    'Pseudo-Sentence': [],\n",
        "    'Preference Type': []\n",
        "\n",
        "}\n",
        "\n",
        "# Loop through the sampled keys to retrieve entries\n",
        "for key in random_keys:\n",
        "    question = QuestionDict.get(key, 'not found')\n",
        "    entry = CPCDict[key]\n",
        "    example_data['ID'].append(key)\n",
        "    example_data['Question'].append(question)\n",
        "    example_data['Pseudo-Sentence'].append(entry[0][0])\n",
        "    example_data['Preference Type'].append(entry[0][1])\n",
        "\n",
        "\n",
        "# Create a DataFrame\n",
        "df_examples = pd.DataFrame(example_data)\n",
        "\n",
        "# Function to format the display of lists within the DataFrame\n",
        "def format_list_for_display(series):\n",
        "    return series.apply(lambda x: ', '.join(x) if isinstance(x, list) else x)\n",
        "\n",
        "# Apply formatting function to the DataFrame\n",
        "df_examples['Question'] = format_list_for_display(df_examples['Question'])\n",
        "df_examples['Pseudo-Sentence'] = format_list_for_display(df_examples['Pseudo-Sentence'])\n",
        "df_examples['Preference Type'] = format_list_for_display(df_examples['Preference Type'])\n",
        "\n",
        "\n",
        "# Display the DataFrame\n",
        "display(HTML(df_examples.to_html(index=False)))\n"
      ],
      "metadata": {
        "papermill": {
          "duration": 0.034288,
          "end_time": "2023-11-16T17:36:13.475067",
          "exception": false,
          "start_time": "2023-11-16T17:36:13.440779",
          "status": "completed"
        },
        "tags": [],
        "execution": {
          "iopub.status.busy": "2023-11-17T06:18:13.769500Z",
          "iopub.execute_input": "2023-11-17T06:18:13.769911Z",
          "iopub.status.idle": "2023-11-17T06:18:13.789108Z",
          "shell.execute_reply.started": "2023-11-17T06:18:13.769876Z",
          "shell.execute_reply": "2023-11-17T06:18:13.787623Z"
        },
        "trusted": true,
        "colab": {
          "base_uri": "https://localhost:8080/",
          "height": 484
        },
        "id": "mlVnqmfhGKjq",
        "outputId": "8c3351e6-41e7-410d-960b-c3a076a4822a"
      },
      "execution_count": 26,
      "outputs": [
        {
          "output_type": "display_data",
          "data": {
            "text/plain": [
              "<IPython.core.display.HTML object>"
            ],
            "text/html": [
              "<table border=\"1\" class=\"dataframe\">\n",
              "  <thead>\n",
              "    <tr style=\"text-align: right;\">\n",
              "      <th>ID</th>\n",
              "      <th>Question</th>\n",
              "      <th>Pseudo-Sentence</th>\n",
              "      <th>Preference Type</th>\n",
              "    </tr>\n",
              "  </thead>\n",
              "  <tbody>\n",
              "    <tr>\n",
              "      <td>71</td>\n",
              "      <td>How good is Sony Xperia L 1 compared to Galaxy J 5 2017 and Nokia 5 ?</td>\n",
              "      <td>Sony Xperia L1 versus Galaxy J5 2017 and Nokia 5</td>\n",
              "      <td>SB</td>\n",
              "    </tr>\n",
              "    <tr>\n",
              "      <td>20</td>\n",
              "      <td>Can you suggest the best camera smartphone under 1000 $ other than Xiaomi phones ?</td>\n",
              "      <td>X camera versus All camera</td>\n",
              "      <td>SB</td>\n",
              "    </tr>\n",
              "    <tr>\n",
              "      <td>992</td>\n",
              "      <td>Is thinking of switching from Apple to a Samsung Note 8 a bad idea ?</td>\n",
              "      <td>Apple versus Samsung Note 8</td>\n",
              "      <td>W</td>\n",
              "    </tr>\n",
              "    <tr>\n",
              "      <td>381</td>\n",
              "      <td>What is the most influential smartphone brand ?</td>\n",
              "      <td>X versus All</td>\n",
              "      <td>SB</td>\n",
              "    </tr>\n",
              "    <tr>\n",
              "      <td>427</td>\n",
              "      <td>Which is the excellent smartphone now ?</td>\n",
              "      <td>X versus All</td>\n",
              "      <td>SB</td>\n",
              "    </tr>\n",
              "    <tr>\n",
              "      <td>845</td>\n",
              "      <td>Which is the worst Chinese smartphone ?</td>\n",
              "      <td>X versus All</td>\n",
              "      <td>SW</td>\n",
              "    </tr>\n",
              "    <tr>\n",
              "      <td>1128</td>\n",
              "      <td>How outstanding is the photo editing of the Galaxy S 9 + against the OnePlus 6 ?</td>\n",
              "      <td>Galaxy S9+ photo editing versus OnePlus 6 photo editing</td>\n",
              "      <td>SB_X</td>\n",
              "    </tr>\n",
              "    <tr>\n",
              "      <td>133</td>\n",
              "      <td>Is a Samsung Galaxy A 51 worth buying over a Realme X 2 ?</td>\n",
              "      <td>Samsung Galaxy A51 versus Realme X2</td>\n",
              "      <td>B</td>\n",
              "    </tr>\n",
              "    <tr>\n",
              "      <td>582</td>\n",
              "      <td>Is the Infinix Zero camera generally better than Poco F 3 GT ?</td>\n",
              "      <td>Infinix Zero camera versus Poco F3 GT camera</td>\n",
              "      <td>B</td>\n",
              "    </tr>\n",
              "    <tr>\n",
              "      <td>746</td>\n",
              "      <td>Which smartphone has the worst camera ?</td>\n",
              "      <td>X camera versus All camera</td>\n",
              "      <td>SW</td>\n",
              "    </tr>\n",
              "  </tbody>\n",
              "</table>"
            ]
          },
          "metadata": {}
        }
      ]
    },
    {
      "cell_type": "markdown",
      "source": [
        "### Utilizing NLI-M for Pseudo-Sentence Generation\n",
        "To facilitate the CPC task, we adopt Natural Language Inference with Multiple Output (NLI-M). This approach involves generating pseudo-sentences that represent the core comparison in each question.\n",
        "\n",
        "- **Pseudo-Sentence Formation**: We create pseudo-sentences by pairing entities and aspects mentioned in the question. For instance, a comparison between two products based on a specific aspect is represented as \"(entity i-aspect j versus entity z-aspect k)\". In cases where a question lacks explicit mention of an entity or aspect, we use placeholders:\n",
        "  - \"X\" is used when an entity is not specified.\n",
        "  - \"All\" is used for unspecified aspects.\n",
        "- **Example**: Given a question comparing the camera quality of 'iPhone 10' and 'iPhone XS', the corresponding pseudo-sentence would be \"iPhone 10-camera versus iPhone XS-camera\".\n",
        "\n",
        "This method allows us to convert complex comparative questions into a format that is more readily analyzable by our classification models.\n"
      ],
      "metadata": {
        "papermill": {
          "duration": 0.01309,
          "end_time": "2023-11-16T17:36:13.501695",
          "exception": false,
          "start_time": "2023-11-16T17:36:13.488605",
          "status": "completed"
        },
        "tags": [],
        "id": "W8boLV5mGKjq"
      }
    },
    {
      "cell_type": "markdown",
      "source": [
        "### Comparative Preference Categories\n",
        "We have outlined 14 potential preference categories for subjective comparative questions: `B`, `SB`, `W`, `SW`, `E`, `XOR-B`, `XOR-SB`, `XOE-E`, `XOR-W`, `XOR-SW`, `X`, `X-SB`, `X-SW`, `Non-Grad`. Consequently, the output label for the CPC task will fall into one of these 14 classifications. A detailed explanation of these abbreviations, along with their expanded interpretations, is encapsulated as :\n",
        "\n",
        "\n",
        "| Preference Type | Description      |\n",
        "|-----------------|------------------|\n",
        "| B               | Better           |\n",
        "| SB              | Strong Better    |\n",
        "| E               | Equal            |\n",
        "| W               | Worse            |\n",
        "| SW              | Strong Worse     |\n",
        "| XOR-B           | XOR-Better       |\n",
        "| XOR-SB          | XOR-Strong Better|\n",
        "| XOR-E           | XOR-Equal        |\n",
        "| XOR-W           | XOR-Worse        |\n",
        "| XOR-SW          | XOR-Strong Worse |\n",
        "| X-SB            | X-Strong Better  |\n",
        "| _X               | X                |\n",
        "| X-SW            | X-Strong Worse   |\n",
        "| Non-Grad        | Non-Gradable     |\n"
      ],
      "metadata": {
        "papermill": {
          "duration": 0.013244,
          "end_time": "2023-11-16T17:36:13.529591",
          "exception": false,
          "start_time": "2023-11-16T17:36:13.516347",
          "status": "completed"
        },
        "tags": [],
        "id": "_YLHGenCGKjq"
      }
    },
    {
      "cell_type": "code",
      "source": [
        "###################################################################################################"
      ],
      "metadata": {
        "papermill": {
          "duration": 0.02186,
          "end_time": "2023-11-16T17:36:13.564864",
          "exception": false,
          "start_time": "2023-11-16T17:36:13.543004",
          "status": "completed"
        },
        "tags": [],
        "execution": {
          "iopub.status.busy": "2023-11-17T06:18:13.790610Z",
          "iopub.execute_input": "2023-11-17T06:18:13.791042Z",
          "iopub.status.idle": "2023-11-17T06:18:13.798499Z",
          "shell.execute_reply.started": "2023-11-17T06:18:13.790969Z",
          "shell.execute_reply": "2023-11-17T06:18:13.797155Z"
        },
        "trusted": true,
        "id": "Lce16H3-GKjq"
      },
      "execution_count": 27,
      "outputs": []
    },
    {
      "cell_type": "markdown",
      "source": [
        "# Conclusion\n",
        "\n",
        "This notebook has provided a basic introduction to the SCRQD dataset. Users are encouraged to perform further analysis and explore the dataset in more depth. Feedback, questions, and contributions are welcome via the GitHub repository's Issues and Pull Requests.\n"
      ],
      "metadata": {
        "papermill": {
          "duration": 0.012517,
          "end_time": "2023-11-16T17:36:13.590502",
          "exception": false,
          "start_time": "2023-11-16T17:36:13.577985",
          "status": "completed"
        },
        "tags": [],
        "id": "cyciHvVJGKjq"
      }
    }
  ]
}