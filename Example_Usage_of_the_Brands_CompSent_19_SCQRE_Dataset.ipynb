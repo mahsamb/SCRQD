{
  "nbformat": 4,
  "nbformat_minor": 0,
  "metadata": {
    "colab": {
      "provenance": []
    },
    "kernelspec": {
      "name": "python3",
      "display_name": "Python 3"
    },
    "language_info": {
      "name": "python"
    }
  },
  "cells": [
    {
      "cell_type": "markdown",
      "source": [
        "# Introduction to the Brands-CompSent-19-SCQRE Dataset\n",
        "\n",
        "This notebook analyzes subjective comparative questions from Brands-CompSent-19-SCQRE dataset, focusing on the Brands domain. We aim to extract meaningful components from these questions to enhance the ability of Automated Question Answering systems to handle subjective comparisons.\n"
      ],
      "metadata": {
        "id": "KJeimMwj5MNB"
      }
    },
    {
      "cell_type": "markdown",
      "source": [
        "\n",
        "## Loading and Displaying Data from JSON\n",
        "\n",
        "We can load the data from the JSON files and display it as a Pandas DataFrame for easier analysis.  The following code demonstrates how to read the JSON data, extract relevant information about comparative relations, and present it in a structured tabular format."
      ],
      "metadata": {
        "id": "73L46RAP8W3b"
      }
    },
    {
      "cell_type": "markdown",
      "source": [
        "# **Read From .JSON:**"
      ],
      "metadata": {
        "id": "6lEu3LcasQ3E"
      }
    },
    {
      "cell_type": "code",
      "source": [
        "import json\n",
        "import pandas as pd\n",
        "import requests\n",
        "\n",
        "def json_to_table(url):\n",
        "    \"\"\"Reads a JSON file from a URL, extracts data, and displays it as a Pandas DataFrame.\n",
        "\n",
        "    Args:\n",
        "        url: The URL to the JSON file.\n",
        "\n",
        "    Returns:\n",
        "        A Pandas DataFrame representing the data, or None if an error occurs.\n",
        "    \"\"\"\n",
        "    try:\n",
        "        response = requests.get(url)\n",
        "        response.raise_for_status()  # Raise an error for bad responses (4xx and 5xx)\n",
        "\n",
        "        data = response.json()  # Automatically decode JSON\n",
        "\n",
        "        rows = []\n",
        "        row_id = 1\n",
        "        for item in data:\n",
        "            question = item['Question']\n",
        "            for relation in item['Relations']:\n",
        "                row = {\n",
        "                    'ID': row_id,\n",
        "                    'Question': question,\n",
        "                    'Subject Entity': ', '.join(relation['Subject Entity']),\n",
        "                    'Compared Aspect': relation['Aspect'],  # Renamed column\n",
        "                    'Object Entity': ', '.join(relation['Object Entity']),\n",
        "                    'Preference Category': relation['Preference'],  # Renamed column\n",
        "                    'Constraint': ', '.join(relation['Constraint'])\n",
        "                }\n",
        "                rows.append(row)\n",
        "                row_id += 1\n",
        "\n",
        "        df = pd.DataFrame(rows)\n",
        "        return df\n",
        "\n",
        "    except requests.exceptions.RequestException as e:\n",
        "        print(f\"Error retrieving data from URL: {e}\")\n",
        "        return None\n",
        "    except json.JSONDecodeError:\n",
        "        print(\"Error: Invalid JSON format.\")\n",
        "        return None\n",
        "    except Exception as e:\n",
        "        print(f\"An unexpected error occurred: {e}\")\n",
        "        return None\n",
        "\n",
        "\n",
        "# Example usage\n",
        "url = \"https://raw.githubusercontent.com/mahsamb/SCRQD/main/Brands-CompSent-19-SCQRE.json\"  # URL of the JSON file\n",
        "df = json_to_table(url)\n",
        "\n",
        "if df is not None:\n",
        "    print(df.head(5))  # Display only the first 5 rows"
      ],
      "metadata": {
        "colab": {
          "base_uri": "https://localhost:8080/"
        },
        "id": "t_fD8ob58DhL",
        "outputId": "7f27f9ca-ba3d-4612-b3c8-261d9b09a54c"
      },
      "execution_count": 9,
      "outputs": [
        {
          "output_type": "stream",
          "name": "stdout",
          "text": [
            "   ID                                           Question Subject Entity  \\\n",
            "0   1  Did you like the Toyota over the Ford and does...         Toyota   \n",
            "1   2  Did you like the Toyota over the Ford and does...         Toyota   \n",
            "2   3  Does the Toyota Tundra get worse fuel economy ...  Toyota Tundra   \n",
            "3   4                    Is Apple better than Microsoft?          Apple   \n",
            "4   5                   Is Google better than Microsoft?         Google   \n",
            "\n",
            "  Compared Aspect          Object Entity Preference Category Constraint  \n",
            "0             All                   Ford              Better       none  \n",
            "1            look                  Chevy              Better       none  \n",
            "2    fuel economy  Ford F-150, Dodge Ram               Worse       none  \n",
            "3             All              Microsoft              Better       none  \n",
            "4             All              Microsoft              Better       none  \n"
          ]
        }
      ]
    },
    {
      "cell_type": "markdown",
      "source": [
        "## Relation Extraction and Representation\n",
        "\n",
        "The relationships between entities within questions are extracted and represented in a structured table format. Each row in the table corresponds to a single comparative relation extracted from a question. The table is organized as follows:\n",
        "\n",
        "* **Question:** The original question from which the relations were extracted. This provides context for the relations.\n",
        "* **ID:** A unique identifier for each relation.\n",
        "* **Subject Entity:** The primary entity being compared.\n",
        "* **Compared Aspect:** The specific feature or attribute being compared between the entities.\n",
        "* **Object Entity:** The entity being compared to the subject entity.\n",
        "* **Preference:** The direction of comparison, indicating which entity is preferred or considered better regarding the compared aspect (e.g., \"Better,\" \"Worse,\" \"Equal\").\n",
        "* **Constraint:** Any conditions or limitations on the comparison.\n",
        "\n",
        "This structure allows for a detailed and nuanced representation of the comparative relationships present in the questions. For example, the question \"Does the Toyota Tundra get worse fuel economy than the larger Ford F-150 or Dodge Ram?\" would be decomposed into a table entry with:\n",
        "\n",
        "* **Subject Entity:** Toyota Tundra\n",
        "* **Compared Aspect:** Fuel Economy\n",
        "* **Object Entity:** Ford F-150, Dodge Ram\n",
        "* **Preference:** Worse\n",
        "* **Constraint:** none\n",
        "\n",
        "This structured representation facilitates analysis and comparison of different relations across multiple questions. Viewing the first few rows of the table provides a concrete illustration of this structure and how it captures the comparative information."
      ],
      "metadata": {
        "id": "H9tdUwS_x0vM"
      }
    },
    {
      "cell_type": "code",
      "source": [
        "import json\n",
        "import pandas as pd\n",
        "import requests\n",
        "from IPython.display import display, HTML\n",
        "\n",
        "def json_to_html_table(url, num_rows=5):\n",
        "    \"\"\"Reads a JSON file from a URL, extracts data, and displays it as an HTML table.\n",
        "\n",
        "    Args:\n",
        "        url: The URL to the JSON file.\n",
        "        num_rows: The number of rows to display (default is 5).\n",
        "    \"\"\"\n",
        "    try:\n",
        "        response = requests.get(url)\n",
        "        response.raise_for_status()  # Raise an error for bad responses\n",
        "\n",
        "        data = response.json()  # Automatically decode JSON\n",
        "\n",
        "        rows = []\n",
        "        row_id = 1\n",
        "        for item in data:\n",
        "            question = item['Question']\n",
        "            for relation in item['Relations']:\n",
        "                row = {\n",
        "                    'ID': row_id,\n",
        "                    'Question': question,\n",
        "                    'Subject Entity': ', '.join(relation['Subject Entity']),\n",
        "                    'Compared Aspect': relation['Aspect'],\n",
        "                    'Object Entity': ', '.join(relation['Object Entity']),\n",
        "                    'Preference': relation['Preference'],\n",
        "                    'Constraint': ', '.join(relation['Constraint'])\n",
        "                }\n",
        "                rows.append(row)\n",
        "                row_id += 1\n",
        "\n",
        "        df = pd.DataFrame(rows)\n",
        "\n",
        "        # Display only the specified number of rows\n",
        "        df_display = df.head(num_rows)\n",
        "\n",
        "        # Convert the DataFrame to an HTML table string\n",
        "        html_table = df_display.to_html(index=False, classes='styled-table', escape=False)\n",
        "\n",
        "        # Display the HTML table\n",
        "        display(HTML(html_table))\n",
        "\n",
        "        # Include CSS styling within the HTML output for standalone display\n",
        "        display(HTML('''\n",
        "        <style>\n",
        "        .styled-table {\n",
        "            border-collapse: collapse;\n",
        "            margin: 25px 0;\n",
        "            font-size: 0.9em;\n",
        "            font-family: sans-serif;\n",
        "            min-width: 400px;\n",
        "            box-shadow: 0 0 20px rgba(0, 0, 0, 0.15);\n",
        "        }\n",
        "        .styled-table thead tr {\n",
        "            background-color: #009879;\n",
        "            color: #ffffff;\n",
        "            text-align: left;\n",
        "        }\n",
        "        .styled-table th,\n",
        "        .styled-table td {\n",
        "            padding: 12px 15px;\n",
        "        }\n",
        "        .styled-table tbody tr {\n",
        "            border-bottom: 1px solid #dddddd;\n",
        "        }\n",
        "\n",
        "        .styled-table tbody tr:nth-of-type(even) {\n",
        "            background-color: #f3f3f3;\n",
        "        }\n",
        "\n",
        "        .styled-table tbody tr:last-of-type {\n",
        "            border-bottom: 2px solid #009879;\n",
        "        }\n",
        "        </style>\n",
        "        '''))\n",
        "\n",
        "    except requests.exceptions.RequestException as e:\n",
        "        print(f\"Error retrieving data from URL: {e}\")\n",
        "    except json.JSONDecodeError:\n",
        "        print(\"Error: Invalid JSON format.\")\n",
        "    except Exception as e:\n",
        "        print(f\"An unexpected error occurred: {e}\")\n",
        "\n",
        "# Example usage\n",
        "url = \"https://raw.githubusercontent.com/mahsamb/SCRQD/main/Brands-CompSent-19-SCQRE.json\"  # Use raw URL to access JSON\n",
        "json_to_html_table(url, num_rows=10)  # Display 10 rows"
      ],
      "metadata": {
        "colab": {
          "base_uri": "https://localhost:8080/",
          "height": 389
        },
        "id": "SI896fu3u72v",
        "outputId": "ae08f36e-7a50-40ba-cf45-fcb4e691a5f8"
      },
      "execution_count": 10,
      "outputs": [
        {
          "output_type": "display_data",
          "data": {
            "text/plain": [
              "<IPython.core.display.HTML object>"
            ],
            "text/html": [
              "<table border=\"1\" class=\"dataframe styled-table\">\n",
              "  <thead>\n",
              "    <tr style=\"text-align: right;\">\n",
              "      <th>ID</th>\n",
              "      <th>Question</th>\n",
              "      <th>Subject Entity</th>\n",
              "      <th>Compared Aspect</th>\n",
              "      <th>Object Entity</th>\n",
              "      <th>Preference</th>\n",
              "      <th>Constraint</th>\n",
              "    </tr>\n",
              "  </thead>\n",
              "  <tbody>\n",
              "    <tr>\n",
              "      <td>1</td>\n",
              "      <td>Did you like the Toyota over the Ford and does it look better than the Chevy?</td>\n",
              "      <td>Toyota</td>\n",
              "      <td>All</td>\n",
              "      <td>Ford</td>\n",
              "      <td>Better</td>\n",
              "      <td>none</td>\n",
              "    </tr>\n",
              "    <tr>\n",
              "      <td>2</td>\n",
              "      <td>Did you like the Toyota over the Ford and does it look better than the Chevy?</td>\n",
              "      <td>Toyota</td>\n",
              "      <td>look</td>\n",
              "      <td>Chevy</td>\n",
              "      <td>Better</td>\n",
              "      <td>none</td>\n",
              "    </tr>\n",
              "    <tr>\n",
              "      <td>3</td>\n",
              "      <td>Does the Toyota Tundra get worse fuel economy than the larger Ford F-150 or Dodge Ram?</td>\n",
              "      <td>Toyota Tundra</td>\n",
              "      <td>fuel economy</td>\n",
              "      <td>Ford F-150, Dodge Ram</td>\n",
              "      <td>Worse</td>\n",
              "      <td>none</td>\n",
              "    </tr>\n",
              "    <tr>\n",
              "      <td>4</td>\n",
              "      <td>Is Apple better than Microsoft?</td>\n",
              "      <td>Apple</td>\n",
              "      <td>All</td>\n",
              "      <td>Microsoft</td>\n",
              "      <td>Better</td>\n",
              "      <td>none</td>\n",
              "    </tr>\n",
              "    <tr>\n",
              "      <td>5</td>\n",
              "      <td>Is Google better than Microsoft?</td>\n",
              "      <td>Google</td>\n",
              "      <td>All</td>\n",
              "      <td>Microsoft</td>\n",
              "      <td>Better</td>\n",
              "      <td>none</td>\n",
              "    </tr>\n",
              "    <tr>\n",
              "      <td>6</td>\n",
              "      <td>Does Pepsi work better in flavored colas than Coke?</td>\n",
              "      <td>Pepsi</td>\n",
              "      <td>flavored colas</td>\n",
              "      <td>Coke</td>\n",
              "      <td>Better</td>\n",
              "      <td>none</td>\n",
              "    </tr>\n",
              "    <tr>\n",
              "      <td>7</td>\n",
              "      <td>Isn't it pretty bad when a Ford has much better reliability than a BMW?</td>\n",
              "      <td>Ford</td>\n",
              "      <td>reliability</td>\n",
              "      <td>BMW</td>\n",
              "      <td>Strong Better</td>\n",
              "      <td>none</td>\n",
              "    </tr>\n",
              "    <tr>\n",
              "      <td>8</td>\n",
              "      <td>Do Nokia executives intimate that their mapping application is superior to both Google and Apple Maps?</td>\n",
              "      <td>Nokia</td>\n",
              "      <td>mapping application</td>\n",
              "      <td>Google Maps, Apple Maps</td>\n",
              "      <td>Strong Better</td>\n",
              "      <td>none</td>\n",
              "    </tr>\n",
              "    <tr>\n",
              "      <td>9</td>\n",
              "      <td>Is it far superior to the Ranger and Colorado, with a better appearance than Toyota and Nissan?</td>\n",
              "      <td>it</td>\n",
              "      <td>All</td>\n",
              "      <td>Ranger, Colorado</td>\n",
              "      <td>Strong Better</td>\n",
              "      <td>none</td>\n",
              "    </tr>\n",
              "    <tr>\n",
              "      <td>10</td>\n",
              "      <td>Is it far superior to the Ranger and Colorado, with a better appearance than Toyota and Nissan?</td>\n",
              "      <td>it</td>\n",
              "      <td>appearance</td>\n",
              "      <td>Toyota, Nissan</td>\n",
              "      <td>Better</td>\n",
              "      <td>none</td>\n",
              "    </tr>\n",
              "  </tbody>\n",
              "</table>"
            ]
          },
          "metadata": {}
        },
        {
          "output_type": "display_data",
          "data": {
            "text/plain": [
              "<IPython.core.display.HTML object>"
            ],
            "text/html": [
              "\n",
              "        <style>\n",
              "        .styled-table {\n",
              "            border-collapse: collapse;\n",
              "            margin: 25px 0;\n",
              "            font-size: 0.9em;\n",
              "            font-family: sans-serif;\n",
              "            min-width: 400px;\n",
              "            box-shadow: 0 0 20px rgba(0, 0, 0, 0.15);\n",
              "        }\n",
              "        .styled-table thead tr {\n",
              "            background-color: #009879;\n",
              "            color: #ffffff;\n",
              "            text-align: left;\n",
              "        }\n",
              "        .styled-table th,\n",
              "        .styled-table td {\n",
              "            padding: 12px 15px;\n",
              "        }\n",
              "        .styled-table tbody tr {\n",
              "            border-bottom: 1px solid #dddddd;\n",
              "        }\n",
              "\n",
              "        .styled-table tbody tr:nth-of-type(even) {\n",
              "            background-color: #f3f3f3;\n",
              "        }\n",
              "\n",
              "        .styled-table tbody tr:last-of-type {\n",
              "            border-bottom: 2px solid #009879;\n",
              "        }\n",
              "        </style>\n",
              "        "
            ]
          },
          "metadata": {}
        }
      ]
    },
    {
      "cell_type": "markdown",
      "source": [
        "## Counting Questions and Relations\n",
        "\n",
        "The following code counts the total number of questions and relations within the provided JSON file."
      ],
      "metadata": {
        "id": "in0S8JbI9IGR"
      }
    },
    {
      "cell_type": "code",
      "source": [
        "import json\n",
        "import requests\n",
        "\n",
        "def count_questions(url):\n",
        "    \"\"\"Counts the total number of questions in a JSON file from a URL.\n",
        "\n",
        "    Args:\n",
        "        url: The URL to the JSON file.\n",
        "\n",
        "    Returns:\n",
        "        The number of questions, or None if an error occurs.\n",
        "    \"\"\"\n",
        "    try:\n",
        "        response = requests.get(url)\n",
        "        response.raise_for_status()  # Raise an error for bad responses\n",
        "\n",
        "        data = response.json()  # Automatically decode JSON\n",
        "\n",
        "        question_count = len(data)\n",
        "        return question_count\n",
        "\n",
        "    except requests.exceptions.RequestException as e:\n",
        "        print(f\"Error retrieving data from URL: {e}\")\n",
        "        return None\n",
        "    except json.JSONDecodeError:\n",
        "        print(\"Error: Invalid JSON format.\")\n",
        "        return None\n",
        "    except Exception as e:\n",
        "        print(f\"An unexpected error occurred: {e}\")\n",
        "        return None\n",
        "\n",
        "# Example usage\n",
        "url = \"https://raw.githubusercontent.com/mahsamb/SCRQD/main/Brands-CompSent-19-SCQRE.json\"  # Use raw URL to access JSON\n",
        "question_count = count_questions(url)\n",
        "\n",
        "if question_count is not None:\n",
        "    print(f\"Number of questions: {question_count}\")"
      ],
      "metadata": {
        "colab": {
          "base_uri": "https://localhost:8080/"
        },
        "id": "zyeVEvGP9Iyo",
        "outputId": "ec2a8260-d100-4b52-af2f-10ef662905ae"
      },
      "execution_count": 11,
      "outputs": [
        {
          "output_type": "stream",
          "name": "stdout",
          "text": [
            "Number of questions: 927\n"
          ]
        }
      ]
    },
    {
      "cell_type": "markdown",
      "source": [
        "## Counting Relations per Question\n",
        "\n",
        "This code analyzes a JSON file to determine the distribution of relations per question. It counts how many questions have one, two, three, or more relations, providing a summary of relation occurrences across the dataset."
      ],
      "metadata": {
        "id": "E6GpJk3n9lSJ"
      }
    },
    {
      "cell_type": "code",
      "source": [
        "import json\n",
        "import requests\n",
        "\n",
        "def count_relations_per_question(url):\n",
        "    \"\"\"Counts the number of questions with different numbers of relations from a JSON file at a URL.\n",
        "\n",
        "    Args:\n",
        "        url: The URL to the JSON file.\n",
        "\n",
        "    Returns:\n",
        "        A dictionary where keys are the number of relations and values are the\n",
        "        corresponding counts of questions, or None if an error occurs.\n",
        "    \"\"\"\n",
        "    try:\n",
        "        response = requests.get(url)\n",
        "        response.raise_for_status()  # Raise an error for bad responses\n",
        "\n",
        "        data = response.json()  # Automatically decode JSON\n",
        "\n",
        "        relation_counts = {}\n",
        "        for item in data:\n",
        "            num_relations = len(item.get('Relations', []))\n",
        "            relation_counts[num_relations] = relation_counts.get(num_relations, 0) + 1\n",
        "\n",
        "        return relation_counts\n",
        "\n",
        "    except requests.exceptions.RequestException as e:\n",
        "        print(f\"Error retrieving data from URL: {e}\")\n",
        "        return None\n",
        "    except json.JSONDecodeError:\n",
        "        print(\"Error: Invalid JSON format.\")\n",
        "        return None\n",
        "    except Exception as e:\n",
        "        print(f\"An unexpected error occurred: {e}\")\n",
        "        return None\n",
        "\n",
        "# Example usage\n",
        "url = \"https://raw.githubusercontent.com/mahsamb/SCRQD/main/Brands-CompSent-19-SCQRE.json\"  # Use raw URL to access JSON\n",
        "relation_counts = count_relations_per_question(url)\n",
        "\n",
        "if relation_counts is not None:\n",
        "    for num_relations, count in relation_counts.items():\n",
        "        print(f\"Questions with {num_relations} relation(s): {count}\")"
      ],
      "metadata": {
        "colab": {
          "base_uri": "https://localhost:8080/"
        },
        "id": "xHtgKKTg9lfJ",
        "outputId": "06a18d85-ef71-458c-d8e3-e1a9f3d1b7aa"
      },
      "execution_count": 12,
      "outputs": [
        {
          "output_type": "stream",
          "name": "stdout",
          "text": [
            "Questions with 2 relation(s): 93\n",
            "Questions with 1 relation(s): 821\n",
            "Questions with 4 relation(s): 6\n",
            "Questions with 3 relation(s): 7\n"
          ]
        }
      ]
    }
  ]
}